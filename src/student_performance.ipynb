{
 "cells": [
  {
   "cell_type": "code",
   "execution_count": 1,
   "metadata": {},
   "outputs": [],
   "source": [
    "import pandas as pd\n",
    "import matplotlib.pyplot as plt\n",
    "import pickle\n",
    "from utils import Utils"
   ]
  },
  {
   "cell_type": "code",
   "execution_count": 2,
   "metadata": {},
   "outputs": [
    {
     "name": "stdout",
     "output_type": "stream",
     "text": [
      "Predicted data is Average Student\n"
     ]
    }
   ],
   "source": [
    "# Use Model to test input data and give suggestion\n",
    "# testing 123\n",
    "loaded_model = None\n",
    "\n",
    "# load Model\n",
    "model_name = \"model/attendance_rate_and_its_infulence_on_final_grades.pkl\"\n",
    "with open(model_name, 'rb') as file:\n",
    "  loaded_model = pickle.load(file)\n",
    "\n",
    "if(loaded_model != None):\n",
    "  input_data_df = pd.DataFrame([float(input(\"Enter student attendance rate: \"))], columns=['AttendanceRate'])\n",
    "  predictions = loaded_model.predict(input_data_df)\n",
    "  if predictions and len(predictions) > 0:\n",
    "    print(f\"Predicted data is {Utils.get_cat_student(predictions[0])}\")\n",
    "else:\n",
    "  print(\"Please train the model and load run again.\")"
   ]
  }
 ],
 "metadata": {
  "kernelspec": {
   "display_name": "env",
   "language": "python",
   "name": "python3"
  },
  "language_info": {
   "codemirror_mode": {
    "name": "ipython",
    "version": 3
   },
   "file_extension": ".py",
   "mimetype": "text/x-python",
   "name": "python",
   "nbconvert_exporter": "python",
   "pygments_lexer": "ipython3",
   "version": "3.12.4"
  }
 },
 "nbformat": 4,
 "nbformat_minor": 2
}
